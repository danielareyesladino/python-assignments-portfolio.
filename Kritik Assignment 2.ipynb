{
 "cells": [
  {
   "cell_type": "code",
   "execution_count": 5,
   "id": "7c10697a-fa70-48ab-9747-fdb49469665a",
   "metadata": {},
   "outputs": [
    {
     "name": "stdout",
     "output_type": "stream",
     "text": [
      "root is  0.2698741375\n",
      "root is  0.8336061944\n",
      "root is  3.1415926536\n",
      "No roots in interval given\n"
     ]
    }
   ],
   "source": [
    "import numpy as np\n",
    "    \n",
    "def function_roots(f,a,b):\n",
    "    \n",
    "    def function(x):\n",
    "        function = eval(f)\n",
    "        return function\n",
    "       \n",
    "    while abs(b-a) >= 10 ** -10: \n",
    "        M = (a+b)/2\n",
    "            \n",
    "        if function(b) * function(M) < 0 :\n",
    "            a = M\n",
    "        else :\n",
    "            b = M\n",
    "            \n",
    "        y = round(M, 10)   \n",
    "            \n",
    "    if function(a) * function(b) > 0:     \n",
    "        print (\"No roots in interval given\")\n",
    "    else:\n",
    "        print ('root is ' , y)\n",
    "\n",
    "function_roots ('np.exp(x) + np.log(x)',0,1)\n",
    "function_roots ('np.arctan(x)-x**2',0,2)\n",
    "function_roots ('np.sin(x)/np.log(x)',3,4)\n",
    "function_roots ('np.log(np.cos(x))',5,7) "
   ]
  },
  {
   "cell_type": "code",
   "execution_count": null,
   "id": "995aa2ff-1efb-41c8-b44b-36043a3f3359",
   "metadata": {},
   "outputs": [],
   "source": []
  }
 ],
 "metadata": {
  "kernelspec": {
   "display_name": "Python 3 (ipykernel)",
   "language": "python",
   "name": "python3"
  },
  "language_info": {
   "codemirror_mode": {
    "name": "ipython",
    "version": 3
   },
   "file_extension": ".py",
   "mimetype": "text/x-python",
   "name": "python",
   "nbconvert_exporter": "python",
   "pygments_lexer": "ipython3",
   "version": "3.11.4"
  }
 },
 "nbformat": 4,
 "nbformat_minor": 5
}
