{
 "cells": [
  {
   "cell_type": "code",
   "execution_count": 6,
   "id": "23bca91b-28f1-4253-ba9e-4a0941839f3a",
   "metadata": {},
   "outputs": [
    {
     "name": "stdout",
     "output_type": "stream",
     "text": [
      "Error!\n",
      "( 0.0 , 1 , 0.0 )\n",
      "( 0.24479166666666666 , 3 , 8.719308035714285e-06 )\n",
      "( 0.4645833333333333 , 5 , 4.438920454545455e-05 )\n",
      "( 0.6422699959247143 , 11 , 5.816761029294689e-05 )\n",
      "( 0.7854981234094468 , 5001 , 9.997000899730081e-05 )\n"
     ]
    }
   ],
   "source": [
    "# Kritik Assignment 1 \n",
    "\n",
    "# defining function that will approximate arctan\n",
    "def arctanApprox(x): \n",
    "    # if statement accounts for numbers outside of XE[0,1] range\n",
    "    if 0 <= x <= 1 :          # i.e., XE [0,1]\n",
    "        a= 0.0001             # a is the max value of error\n",
    "        y= 0                  # y is set as 0 so it's defined\n",
    "        i= -1                 # i is the counter that allows while loop to run i number of iterations\n",
    "        error_bound = 1       # initialize variable\n",
    "        \n",
    "        # a while loop is necessary for the program to run until the max error (a) is reached  \n",
    "        # i is adding iterations. It started at -1, now it has added for the first iteration, setting i to 0, matching the approxArctan(0)\n",
    "        # i.e. i= i +1        \n",
    "        while error_bound > a :                          \n",
    "            i+= 1                                     \n",
    "            y+= ((-1)**i)*(x**(2*i+1))/ (2*i+1)          # approximation sum\n",
    "            n= 2*i+1                                     # degree of polynomial\n",
    "            error_bound= (x**(2*n+1)/(2*n+1)) \n",
    " \n",
    "        # prints tuple format\n",
    "        print (\"(\",y,\",\", n,\",\", error_bound,\")\")\n",
    "\n",
    "    else:\n",
    "        print (\"Error!\")\n",
    "\n",
    "# insert X value \n",
    "arctanApprox(-1)\n",
    "arctanApprox(0)\n",
    "arctanApprox(0.25)\n",
    "arctanApprox(0.5)\n",
    "arctanApprox(0.75)\n",
    "arctanApprox(1)"
   ]
  },
  {
   "cell_type": "code",
   "execution_count": null,
   "id": "8341a376-dcdb-4e25-a45f-176a093a4f7e",
   "metadata": {},
   "outputs": [],
   "source": []
  }
 ],
 "metadata": {
  "kernelspec": {
   "display_name": "Python 3 (ipykernel)",
   "language": "python",
   "name": "python3"
  },
  "language_info": {
   "codemirror_mode": {
    "name": "ipython",
    "version": 3
   },
   "file_extension": ".py",
   "mimetype": "text/x-python",
   "name": "python",
   "nbconvert_exporter": "python",
   "pygments_lexer": "ipython3",
   "version": "3.11.4"
  }
 },
 "nbformat": 4,
 "nbformat_minor": 5
}
