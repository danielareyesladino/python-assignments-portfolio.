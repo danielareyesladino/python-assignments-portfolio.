{
 "cells": [
  {
   "cell_type": "code",
   "execution_count": 81,
   "id": "c891181d-26f1-4be1-aaa9-7c189fd887f3",
   "metadata": {},
   "outputs": [
    {
     "name": "stdout",
     "output_type": "stream",
     "text": [
      "Average Score: 82.382\n",
      "Standard Deviation: 10.193467189005581\n",
      "t0: 2.290087686017293\n",
      "t*: 2.2522252225222523\n",
      "False\n"
     ]
    }
   ],
   "source": [
    "import numpy as np\n",
    "from scipy.special import gamma\n",
    "import statistics as st\n",
    "        \n",
    "def average_score (test_scores):\n",
    "    test_scores = [92.64,79.00,84.79,97.41,93.68,65.23,84.50,73.49,73.97,79.11]\n",
    "    return sum(test_scores)/len(test_scores)\n",
    "\n",
    "standard_dev = st.stdev(test_scores)\n",
    "\n",
    "def value_t0 (average_score, standard_dev, test_scores):\n",
    "    u = 75\n",
    "    return (average_score - u) / (standard_dev / np.sqrt(len(test_scores)))\n",
    "\n",
    "def t_distribution_pdf(x, nu):\n",
    "    coeff = gamma((nu + 1) / 2) / (np.sqrt(nu * np.pi) * gamma(nu / 2))\n",
    "    density = coeff * (1 + x**2 / nu) ** (-0.5 * (nu + 1))\n",
    "    return density\n",
    "\n",
    "def find_t_star(prob, nu, x_start=0, x_end=20, num_points=10000):\n",
    "    # Define the x values\n",
    "    x = np.linspace(x_start, x_end, num_points)\n",
    "    # Apply the density function to the x values\n",
    "    y = t_distribution_pdf(x, nu)\n",
    "    # This next line is the integration (exercise: why does this work?)\n",
    "    cdf = np.cumsum(y) * (x[1] - x[0])\n",
    "    # Find the t-value where the cumulative probability reaches half of the required probability\n",
    "    target_half_prob = prob / 2\n",
    "    index = np.where(cdf >= target_half_prob)[0][0]\n",
    "    return x[index]\n",
    "\n",
    "test_scores = [92.64, 79.00, 84.79, 97.41, 93.68, 65.23, 84.50, 73.49, 73.97, 79.11]\n",
    "avg = average_score(test_scores)\n",
    "t_0 = value_t0(avg, standard_dev, test_scores)\n",
    "t_star = find_t_star(prob, len(test_scores) - 1)\n",
    "\n",
    "print(\"Average Score:\", avg)\n",
    "print(\"Standard Deviation:\", standard_dev)\n",
    "print(\"t0:\", t_0)\n",
    "print(\"t*:\", t_star)\n",
    "\n",
    "t_0 = value_t0(avg, standard_dev, test_scores)\n",
    "t_star = find_t_star(prob, len(test_scores) - 1)\n",
    "\n",
    "if -t_star <= t_0 <= t_star:\n",
    "    print(\"True\")\n",
    "else:\n",
    "    print(\"False\")\n"
   ]
  },
  {
   "cell_type": "code",
   "execution_count": null,
   "id": "62c15a8c-d5a7-43c9-a4d8-74ee6a927b5f",
   "metadata": {},
   "outputs": [],
   "source": []
  }
 ],
 "metadata": {
  "kernelspec": {
   "display_name": "Python 3 (ipykernel)",
   "language": "python",
   "name": "python3"
  },
  "language_info": {
   "codemirror_mode": {
    "name": "ipython",
    "version": 3
   },
   "file_extension": ".py",
   "mimetype": "text/x-python",
   "name": "python",
   "nbconvert_exporter": "python",
   "pygments_lexer": "ipython3",
   "version": "3.11.4"
  }
 },
 "nbformat": 4,
 "nbformat_minor": 5
}
